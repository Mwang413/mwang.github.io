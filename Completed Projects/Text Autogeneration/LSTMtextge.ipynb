{
 "cells": [
  {
   "cell_type": "markdown",
   "metadata": {},
   "source": [
    "Using section 8.1 in Deep Learning with Python as a guide, implement an LSTM text generator. Train the model on the Enron corpus or a text source of your choice. Save the model and generate 20 examples to the results directory of dsc650/assignments/assignment11/."
   ]
  },
  {
   "cell_type": "code",
   "execution_count": 42,
   "metadata": {},
   "outputs": [
    {
     "name": "stdout",
     "output_type": "stream",
     "text": [
      "Corpus length: 600893\n"
     ]
    }
   ],
   "source": [
    "from tensorflow import keras\n",
    "import numpy as np\n",
    "path = keras.utils.get_file(\n",
    " 'nietzsche.txt',\n",
    " origin='https://s3.amazonaws.com/text-datasets/nietzsche.txt')\n",
    "text = open(path).read().lower()\n",
    "print('Corpus length:', len(text))"
   ]
  },
  {
   "cell_type": "code",
   "execution_count": 43,
   "metadata": {},
   "outputs": [
    {
     "name": "stdout",
     "output_type": "stream",
     "text": [
      "Number of sequences: 200278\n",
      "Unique characters: 57\n",
      "Vectorization...\n"
     ]
    }
   ],
   "source": [
    "# Length of extracted character sequences\n",
    "maxlen = 60\n",
    "# We sample a new sequence every `step` characters\n",
    "step = 3\n",
    "# This holds our extracted sequences\n",
    "sentences = []\n",
    "# This holds the targets (the follow-up characters)\n",
    "next_chars = []\n",
    "for i in range(0, len(text) - maxlen, step):\n",
    "     sentences.append(text[i: i + maxlen])\n",
    "     next_chars.append(text[i + maxlen])\n",
    "print('Number of sequences:', len(sentences))\n",
    "# List of unique characters in the corpus\n",
    "chars = sorted(list(set(text)))\n",
    "print('Unique characters:', len(chars))\n",
    "# Dictionary mapping unique characters to their index in `chars`\n",
    "char_indices = dict((char, chars.index(char)) for char in chars)\n",
    "# Next, one-hot encode the characters into binary arrays.\n",
    "print('Vectorization...')\n",
    "x = np.zeros((len(sentences), maxlen, len(chars)), dtype=np.bool)\n",
    "y = np.zeros((len(sentences), len(chars)), dtype=np.bool)\n",
    "for i, sentence in enumerate(sentences):\n",
    "     for t, char in enumerate(sentence):\n",
    "          x[i, t, char_indices[char]] = 1\n",
    "          y[i, char_indices[next_chars[i]]] = 1"
   ]
  },
  {
   "cell_type": "code",
   "execution_count": 44,
   "metadata": {},
   "outputs": [],
   "source": [
    "model = keras.models.Sequential()\n",
    "model.add(keras.layers.LSTM(128, input_shape=(maxlen, len(chars))))\n",
    "model.add(keras.layers.Dense(len(chars), activation='softmax'))"
   ]
  },
  {
   "cell_type": "code",
   "execution_count": 45,
   "metadata": {},
   "outputs": [],
   "source": [
    "optimizer = keras.optimizers.RMSprop(lr=0.01)\n",
    "model.compile(loss='categorical_crossentropy', optimizer=optimizer)"
   ]
  },
  {
   "cell_type": "code",
   "execution_count": 47,
   "metadata": {},
   "outputs": [],
   "source": [
    "def sample(preds, temperature=1.0):\n",
    "     preds = np.asarray(preds).astype('float64')\n",
    "     preds = np.log(preds) / temperature\n",
    "     exp_preds = np.exp(preds)\n",
    "     preds = exp_preds / np.sum(exp_preds)\n",
    "     probas = np.random.multinomial(1, preds, 1)\n",
    "     return np.argmax(probas)"
   ]
  },
  {
   "cell_type": "code",
   "execution_count": 48,
   "metadata": {},
   "outputs": [
    {
     "name": "stdout",
     "output_type": "stream",
     "text": [
      "epoch 1\n",
      "1565/1565 [==============================] - 138s 87ms/step - loss: 2.2620\n",
      "epoch 2\n",
      "1565/1565 [==============================] - 135s 86ms/step - loss: 1.6160\n",
      "epoch 3\n",
      "1565/1565 [==============================] - 133s 85ms/step - loss: 1.5273\n",
      "epoch 4\n",
      "1565/1565 [==============================] - 127s 81ms/step - loss: 1.4818\n",
      "epoch 5\n",
      "1565/1565 [==============================] - 130s 83ms/step - loss: 1.4518\n",
      "epoch 6\n",
      "1565/1565 [==============================] - 129s 82ms/step - loss: 1.4301\n",
      "epoch 7\n",
      "1565/1565 [==============================] - 130s 83ms/step - loss: 1.4128\n",
      "epoch 8\n",
      "1565/1565 [==============================] - 129s 82ms/step - loss: 1.3981\n",
      "epoch 9\n",
      "1565/1565 [==============================] - 129s 83ms/step - loss: 1.3858\n",
      "epoch 10\n",
      "1565/1565 [==============================] - 131s 84ms/step - loss: 1.3754\n",
      "epoch 11\n",
      "1565/1565 [==============================] - 129s 83ms/step - loss: 1.3658\n",
      "epoch 12\n",
      "1565/1565 [==============================] - 130s 83ms/step - loss: 1.3572\n",
      "epoch 13\n",
      "1565/1565 [==============================] - 133s 85ms/step - loss: 1.3497\n",
      "epoch 14\n",
      "1565/1565 [==============================] - 130s 83ms/step - loss: 1.3430\n",
      "epoch 15\n",
      "1565/1565 [==============================] - 131s 84ms/step - loss: 1.3361\n",
      "epoch 16\n",
      "1565/1565 [==============================] - 131s 84ms/step - loss: 1.3314\n",
      "epoch 17\n",
      "1565/1565 [==============================] - 129s 82ms/step - loss: 1.3272\n",
      "epoch 18\n",
      "1565/1565 [==============================] - 133s 85ms/step - loss: 1.3194\n",
      "epoch 19\n",
      "1565/1565 [==============================] - 130s 83ms/step - loss: 1.3153\n",
      "epoch 20\n",
      "1565/1565 [==============================] - 129s 82ms/step - loss: 1.3111\n",
      "epoch 21\n",
      "1565/1565 [==============================] - 129s 82ms/step - loss: 1.3084\n",
      "epoch 22\n",
      "1565/1565 [==============================] - 132s 84ms/step - loss: 1.3030\n",
      "epoch 23\n",
      "1565/1565 [==============================] - 132s 84ms/step - loss: 1.3013\n",
      "epoch 24\n",
      "1565/1565 [==============================] - 131s 84ms/step - loss: 1.2956\n",
      "epoch 25\n",
      "1565/1565 [==============================] - 132s 84ms/step - loss: 1.2933\n",
      "epoch 26\n",
      "1565/1565 [==============================] - 133s 85ms/step - loss: 1.2905\n",
      "epoch 27\n",
      "1565/1565 [==============================] - 133s 85ms/step - loss: 1.2876\n",
      "epoch 28\n",
      "1565/1565 [==============================] - 258s 165ms/step - loss: 1.2858\n",
      "epoch 29\n",
      "1565/1565 [==============================] - 252s 161ms/step - loss: 1.2818\n",
      "epoch 30\n",
      "1565/1565 [==============================] - 247s 158ms/step - loss: 1.2804\n",
      "epoch 31\n",
      "1565/1565 [==============================] - 246s 157ms/step - loss: 1.2792\n",
      "epoch 32\n",
      "1565/1565 [==============================] - 264s 169ms/step - loss: 1.2760\n",
      "epoch 33\n",
      "1565/1565 [==============================] - 234s 150ms/step - loss: 1.2731\n",
      "epoch 34\n",
      "1565/1565 [==============================] - 264s 168ms/step - loss: 1.2720\n",
      "epoch 35\n",
      "1565/1565 [==============================] - 256s 164ms/step - loss: 1.2688\n",
      "epoch 36\n",
      "1565/1565 [==============================] - 254s 162ms/step - loss: 1.2658\n",
      "epoch 37\n",
      "1565/1565 [==============================] - 157s 100ms/step - loss: 1.2641\n",
      "epoch 38\n",
      "1565/1565 [==============================] - 135s 86ms/step - loss: 1.2621\n",
      "epoch 39\n",
      "1565/1565 [==============================] - 131s 84ms/step - loss: 1.2596\n"
     ]
    }
   ],
   "source": [
    "import random\n",
    "import sys\n",
    "for epoch in range(1, 40):\n",
    "     print('epoch', epoch)\n",
    "     # Fit the model for 1 epoch on the available training data\n",
    "     model.fit(x, y,\n",
    "               batch_size=128,\n",
    "               epochs=1)\n",
    "     # Select a text seed at random"
   ]
  },
  {
   "cell_type": "code",
   "execution_count": 49,
   "metadata": {},
   "outputs": [
    {
     "name": "stderr",
     "output_type": "stream",
     "text": [
      "2021-11-19 23:33:08.319174: W tensorflow/python/util/util.cc:348] Sets are not currently considered sequences, but this may change in the future, so consider avoiding using them.\n",
      "WARNING:absl:Found untraced functions such as lstm_cell_1_layer_call_and_return_conditional_losses, lstm_cell_1_layer_call_fn, lstm_cell_1_layer_call_fn, lstm_cell_1_layer_call_and_return_conditional_losses, lstm_cell_1_layer_call_and_return_conditional_losses while saving (showing 5 of 5). These functions will not be directly callable after loading.\n",
      "WARNING:absl:Found untraced functions such as lstm_cell_1_layer_call_and_return_conditional_losses, lstm_cell_1_layer_call_fn, lstm_cell_1_layer_call_fn, lstm_cell_1_layer_call_and_return_conditional_losses, lstm_cell_1_layer_call_and_return_conditional_losses while saving (showing 5 of 5). These functions will not be directly callable after loading.\n"
     ]
    },
    {
     "name": "stdout",
     "output_type": "stream",
     "text": [
      "INFO:tensorflow:Assets written to: /Users/muduo/Documents/GitHub/dsc650/dsc650/assignments/assignment11/LSTMtextgenmodel/assets\n"
     ]
    },
    {
     "name": "stderr",
     "output_type": "stream",
     "text": [
      "INFO:tensorflow:Assets written to: /Users/muduo/Documents/GitHub/dsc650/dsc650/assignments/assignment11/LSTMtextgenmodel/assets\n"
     ]
    }
   ],
   "source": [
    "model.save(\"/Users/muduo/Documents/GitHub/dsc650/dsc650/assignments/assignment11/LSTMtextgenmodel\")"
   ]
  },
  {
   "cell_type": "code",
   "execution_count": 50,
   "metadata": {},
   "outputs": [],
   "source": [
    "from tensorflow import keras\n",
    "load = keras.models.load_model(\"/Users/muduo/Documents/GitHub/dsc650/dsc650/assignments/assignment11/LSTMtextgenmodel\")"
   ]
  },
  {
   "cell_type": "code",
   "execution_count": 51,
   "metadata": {},
   "outputs": [
    {
     "name": "stderr",
     "output_type": "stream",
     "text": [
      "/var/folders/1y/5m3skjbn33ggq1vw0_jc_wcc0000gn/T/ipykernel_43156/1684724676.py:3: RuntimeWarning: divide by zero encountered in log\n",
      "  preds = np.log(preds) / temperature\n"
     ]
    }
   ],
   "source": [
    "import random\n",
    "import sys\n",
    "for n in range(1, 21):\n",
    "     # Select a text seed at random\n",
    "     start_index = random.randint(0, len(text) - maxlen - 1)\n",
    "     generated_text = text[start_index: start_index + maxlen]\n",
    "     seed_text = generated_text\n",
    "     with open(\"results/\"+str(n)+\".txt\", \"a\") as a:\n",
    "          a.write(f\"--- Generating with seed: {seed_text}\\n\")\n",
    "          for temperature in [0.5, 1.2]:\n",
    "               final_text = seed_text\n",
    "               # We generate 200 characters\n",
    "               for i in range(200):\n",
    "                    sampled = np.zeros((1, maxlen, len(chars)))\n",
    "                    for t, char in enumerate(generated_text):\n",
    "                         sampled[0, t, char_indices[char]] = 1.\n",
    "                    preds = load.predict(sampled, verbose=0)[0]\n",
    "                    next_index = sample(preds, temperature)\n",
    "                    next_char = chars[next_index]\n",
    "                    generated_text += next_char\n",
    "                    final_text += next_char\n",
    "                    generated_text = generated_text[1:]\n",
    "               a.write(f\"Temperature: {temperature} \\n\")\n",
    "               a.write(final_text)\n",
    "               a.write(\"\\n\"*2)\n",
    "               "
   ]
  },
  {
   "cell_type": "code",
   "execution_count": null,
   "metadata": {},
   "outputs": [],
   "source": []
  }
 ],
 "metadata": {
  "interpreter": {
   "hash": "6a7e085e2be22aecdec34467013b94f50fba0b03f672379593d6e76b12038bf7"
  },
  "kernelspec": {
   "display_name": "Python 3.8.10 64-bit (conda)",
   "language": "python",
   "name": "python3"
  },
  "language_info": {
   "codemirror_mode": {
    "name": "ipython",
    "version": 3
   },
   "file_extension": ".py",
   "mimetype": "text/x-python",
   "name": "python",
   "nbconvert_exporter": "python",
   "pygments_lexer": "ipython3",
   "version": "3.8.10"
  },
  "orig_nbformat": 4
 },
 "nbformat": 4,
 "nbformat_minor": 2
}
