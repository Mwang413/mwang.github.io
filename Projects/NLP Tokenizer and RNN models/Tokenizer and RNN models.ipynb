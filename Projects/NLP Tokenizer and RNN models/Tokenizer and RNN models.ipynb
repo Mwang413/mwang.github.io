{
 "cells": [
  {
   "cell_type": "markdown",
   "metadata": {},
   "source": [
    "Defining Functions"
   ]
  },
  {
   "cell_type": "code",
   "execution_count": 1,
   "metadata": {},
   "outputs": [],
   "source": [
    "def tokenize(sentence):\n",
    "     tokens_index = {}\n",
    "     punc = '''!()-[]{};:'\"\\,<>./?@#$%^&*_~'''\n",
    "     tokens = []\n",
    "\n",
    "     for word in sentence.split():\n",
    "          word = word.lower()\n",
    "          for i in word:\n",
    "               if i in punc:\n",
    "                    word = word.cnplace(i, \"\")\n",
    "          if word not in tokens_index:\n",
    "               tokens_index[word] = len(tokens_index)\n",
    "          tokens.append(tokens_index[word])\n",
    "\n",
    "     return tokens_index, tokens\n",
    "\n",
    "string = 'the cat sat on the keyboard and then the chair, lol~'\n",
    "\n",
    "tokens_index, tokens = tokenize(string)\n",
    "# print(tokens_index)\n",
    "# print(tokens)"
   ]
  },
  {
   "cell_type": "code",
   "execution_count": 3,
   "metadata": {},
   "outputs": [],
   "source": [
    "import numpy as np\n",
    "\n",
    "def one_hot_encode(tokens, num_words):\n",
    "     results = np.zeros((min(len(tokens),num_words), min(num_words,len(tokens))))\n",
    "     for i, word in enumerate(tokens):\n",
    "          index = tokens[word]\n",
    "          try:\n",
    "               results[i, index] = 1.\n",
    "          except IndexError:\n",
    "               break\n",
    "     return results\n",
    "\n",
    "results = one_hot_encode(tokens, 15)\n",
    "# print(results)\n",
    "\n",
    "\n",
    "def ngrams(tokens, n):\n",
    "     ngrams = []\n",
    "     for item_num in range(len(tokens)):\n",
    "          loc_lst = []\n",
    "          for times in range(n):\n",
    "               try:\n",
    "                    loc_lst.append(tokens[item_num+times])\n",
    "               except IndexError as e:\n",
    "                    continue     \n",
    "          if len(loc_lst) == n:\n",
    "               ngrams.append(loc_lst)\n",
    "     return ngrams\n",
    "\n",
    "ngrams = ngrams(tokens, 7)\n",
    "# print(ngrams)"
   ]
  },
  {
   "cell_type": "markdown",
   "metadata": {},
   "source": [
    "Data Preparation"
   ]
  },
  {
   "cell_type": "code",
   "execution_count": 4,
   "metadata": {},
   "outputs": [],
   "source": [
    "import os\n",
    "train_path = \"/Users/muduo/Documents/GitHub/dsc650/data/external/imdb/aclImdb/train\"\n",
    "test_path = \"/Users/muduo/Documents/GitHub/dsc650/data/external/imdb/aclImdb/test\"\n",
    "pos_trains = os.listdir(train_path+\"/pos\")\n",
    "neg_trains = os.listdir(train_path+\"/neg\")\n",
    "pos_tests = os.listdir(test_path+\"/pos\")\n",
    "neg_tests = os.listdir(test_path+\"/neg\")\n",
    "\n",
    "pos_train_list = []\n",
    "for i in pos_trains:\n",
    "     with open (train_path + \"/pos/\" + f\"{i}\") as f:\n",
    "          text = \"\"\n",
    "          for line in f:\n",
    "               text += line\n",
    "          pos_train_list.append(text)\n",
    "\n",
    "pos_test_list = []\n",
    "for i in pos_tests:\n",
    "     with open (test_path + \"/pos/\" + f\"{i}\") as f:\n",
    "          text = \"\"\n",
    "          for line in f:\n",
    "               text += line\n",
    "          pos_test_list.append(text)\n",
    "\n",
    "neg_train_list = []\n",
    "for i in neg_trains:\n",
    "     with open (train_path + \"/neg/\" + f\"{i}\") as f:\n",
    "          text = \"\"\n",
    "          for line in f:\n",
    "               text += line\n",
    "          neg_train_list.append(text)\n",
    "\n",
    "neg_test_list = []\n",
    "for i in neg_tests:\n",
    "     with open (test_path + \"/neg/\" + f\"{i}\") as f:\n",
    "          text = \"\"\n",
    "          for line in f:\n",
    "               text += line\n",
    "          neg_test_list.append(text)\n",
    "\n",
    "train_text_list = pos_train_list.copy()\n",
    "for i in neg_train_list:\n",
    "     train_text_list.append(i)\n",
    "\n",
    "test_text_list = pos_test_list.copy()\n",
    "for i in neg_test_list:\n",
    "     test_text_list.append(i)"
   ]
  },
  {
   "cell_type": "code",
   "execution_count": 193,
   "metadata": {},
   "outputs": [],
   "source": [
    "# Tokenize all text\n",
    "\n",
    "## Vocab Dict\n",
    "complete_text = \"\"\n",
    "for i in train_text_list:\n",
    "     complete_text += \" \" + i\n",
    "\n",
    "for i in test_text_list:\n",
    "     complete_text += \" \" + i\n",
    "\n",
    "tokens_index, _ = tokenize(complete_text)\n",
    "\n",
    "## Text to token\n",
    "def token_lookup(sentence, tokens_index):\n",
    "     punc = '''!()-[]{};:'\"\\,<>./?@#$%^&*_~'''\n",
    "     tokenized = []\n",
    "     \n",
    "     for word in sentence.split():\n",
    "          word = word.lower()\n",
    "          for i in word:\n",
    "               if i in punc:\n",
    "                    word = word.replace(i, \"\")\n",
    "          if word in tokens_index:\n",
    "               tokenized.append(tokens_index[word])\n",
    "          else:\n",
    "               print(\"word not found\") \n",
    "          \n",
    "     return tokenized"
   ]
  },
  {
   "cell_type": "code",
   "execution_count": 194,
   "metadata": {},
   "outputs": [],
   "source": [
    "x_train = []\n",
    "for sentence in train_text_list:\n",
    "     x_train.append(token_lookup(sentence, tokens_index))\n",
    "   \n",
    "x_test = []\n",
    "for sentence in test_text_list:\n",
    "     x_test.append(token_lookup(sentence, tokens_index))"
   ]
  },
  {
   "cell_type": "code",
   "execution_count": 196,
   "metadata": {},
   "outputs": [],
   "source": [
    "y_train = []\n",
    "for i in range(12500):\n",
    "     y_train.append(1)\n",
    "for i in range(12500):\n",
    "     y_train.append(0)\n",
    "\n",
    "y_test = []\n",
    "for i in range(12500):\n",
    "     y_test.append(1)\n",
    "for i in range(12500):\n",
    "     y_test.append(0)"
   ]
  },
  {
   "cell_type": "code",
   "execution_count": 198,
   "metadata": {},
   "outputs": [],
   "source": [
    "import random\n",
    "train_idx = random.sample(range(25000), 25000)\n",
    "test_idx = random.sample(range(25000), 25000)\n",
    "\n",
    "x_train_shuffed = []\n",
    "y_train_shuffed = []\n",
    "x_test_shuffed = []\n",
    "y_test_shuffed = []\n",
    "\n",
    "for i in range(len(x_train)):\n",
    "     index = train_idx[i]\n",
    "     x_train_shuffed.append(x_train[index])\n",
    "     y_train_shuffed.append(y_train[index])\n",
    "\n",
    "for i in range(len(x_test)):\n",
    "     index = train_idx[i]\n",
    "     x_test_shuffed.append(x_test[index])\n",
    "     y_test_shuffed.append(y_test[index])"
   ]
  },
  {
   "cell_type": "code",
   "execution_count": 204,
   "metadata": {},
   "outputs": [],
   "source": [
    "from keras import preprocessing\n",
    "x_train = preprocessing.sequence.pad_sequences(x_train_shuffed, maxlen=2000)\n",
    "x_test = preprocessing.sequence.pad_sequences(x_test_shuffed, maxlen=2000)\n",
    "y_train = np.array(y_train_shuffed)\n",
    "y_test = np.array(y_test_shuffed)"
   ]
  },
  {
   "cell_type": "code",
   "execution_count": 205,
   "metadata": {},
   "outputs": [
    {
     "name": "stdout",
     "output_type": "stream",
     "text": [
      "25000\n",
      "<class 'numpy.ndarray'>\n",
      "25000\n",
      "<class 'numpy.ndarray'>\n",
      "25000\n",
      "<class 'numpy.ndarray'>\n",
      "25000\n",
      "<class 'numpy.ndarray'>\n"
     ]
    }
   ],
   "source": [
    "# Input Data prep complete\n",
    "\n",
    "for i in [x_train, x_test, y_train,y_test]:\n",
    "     print(len(i))\n",
    "     print(type(i))"
   ]
  },
  {
   "cell_type": "code",
   "execution_count": 222,
   "metadata": {},
   "outputs": [
    {
     "name": "stdout",
     "output_type": "stream",
     "text": [
      "Model: \"sequential_79\"\n",
      "_________________________________________________________________\n",
      "Layer (type)                 Output Shape              Param #   \n",
      "=================================================================\n",
      "embedding_73 (Embedding)     (None, 200, 32)           6400000   \n",
      "_________________________________________________________________\n",
      "dense_125 (Dense)            (None, 200, 8)            264       \n",
      "_________________________________________________________________\n",
      "dense_126 (Dense)            (None, 200, 1)            9         \n",
      "=================================================================\n",
      "Total params: 6,400,273\n",
      "Trainable params: 6,400,273\n",
      "Non-trainable params: 0\n",
      "_________________________________________________________________\n",
      "Epoch 1/10\n",
      "WARNING:tensorflow:Model was constructed with shape (None, 200) for input KerasTensor(type_spec=TensorSpec(shape=(None, 200), dtype=tf.float32, name='embedding_73_input'), name='embedding_73_input', description=\"created by layer 'embedding_73_input'\"), but it was called on an input with incompatible shape (32, 2000).\n",
      "WARNING:tensorflow:Model was constructed with shape (None, 200) for input KerasTensor(type_spec=TensorSpec(shape=(None, 200), dtype=tf.float32, name='embedding_73_input'), name='embedding_73_input', description=\"created by layer 'embedding_73_input'\"), but it was called on an input with incompatible shape (32, 2000).\n",
      "624/625 [============================>.] - ETA: 0s - loss: 0.6927 - acc: 0.5058WARNING:tensorflow:Model was constructed with shape (None, 200) for input KerasTensor(type_spec=TensorSpec(shape=(None, 200), dtype=tf.float32, name='embedding_73_input'), name='embedding_73_input', description=\"created by layer 'embedding_73_input'\"), but it was called on an input with incompatible shape (None, 2000).\n",
      "625/625 [==============================] - 9s 14ms/step - loss: 0.6927 - acc: 0.5058 - val_loss: 0.6921 - val_acc: 0.4976\n",
      "Epoch 2/10\n",
      "625/625 [==============================] - 9s 14ms/step - loss: 0.6917 - acc: 0.5120 - val_loss: 0.6918 - val_acc: 0.4978\n",
      "Epoch 3/10\n",
      "625/625 [==============================] - 9s 14ms/step - loss: 0.6913 - acc: 0.5098 - val_loss: 0.6917 - val_acc: 0.4978\n",
      "Epoch 4/10\n",
      "625/625 [==============================] - 9s 14ms/step - loss: 0.6911 - acc: 0.5112 - val_loss: 0.6916 - val_acc: 0.5148\n",
      "Epoch 5/10\n",
      "625/625 [==============================] - 8s 13ms/step - loss: 0.6910 - acc: 0.5128 - val_loss: 0.6917 - val_acc: 0.4978\n",
      "Epoch 6/10\n",
      "625/625 [==============================] - 11s 18ms/step - loss: 0.6909 - acc: 0.5130 - val_loss: 0.6918 - val_acc: 0.4979\n",
      "Epoch 7/10\n",
      "625/625 [==============================] - 8s 13ms/step - loss: 0.6908 - acc: 0.5109 - val_loss: 0.6916 - val_acc: 0.4980\n",
      "Epoch 8/10\n",
      "625/625 [==============================] - 9s 14ms/step - loss: 0.6908 - acc: 0.5091 - val_loss: 0.6917 - val_acc: 0.4979\n",
      "Epoch 9/10\n",
      "625/625 [==============================] - 10s 15ms/step - loss: 0.6907 - acc: 0.5118 - val_loss: 0.6917 - val_acc: 0.4980\n",
      "Epoch 10/10\n",
      "625/625 [==============================] - 9s 14ms/step - loss: 0.6907 - acc: 0.5101 - val_loss: 0.6917 - val_acc: 0.4979\n"
     ]
    }
   ],
   "source": [
    "import tensorflow as tf\n",
    "from tensorflow.keras.models import Sequential\n",
    "from tensorflow.keras.layers import Embedding, Flatten, Dense\n",
    "model = Sequential()\n",
    "model.add(tf.keras.layers.Embedding(input_dim = 200000, output_dim = 32, input_length=200))\n",
    "model.add(Dense(8, activation='relu'))\n",
    "model.add(Dense(1, activation='sigmoid'))\n",
    "model.summary()\n",
    "model.compile(\n",
    "     optimizer='rmsprop',\n",
    "     loss='binary_crossentropy',\n",
    "     metrics=['acc']\n",
    "     )\n",
    "\n",
    "history = model.fit(x_train, y_train,\n",
    "     epochs=10,\n",
    "     batch_size=32,\n",
    "     validation_split = 0.2)\n",
    "     "
   ]
  },
  {
   "cell_type": "code",
   "execution_count": 202,
   "metadata": {},
   "outputs": [
    {
     "name": "stdout",
     "output_type": "stream",
     "text": [
      "782/782 [==============================] - 1s 825us/step - loss: 0.7246 - acc: 0.4987\n"
     ]
    },
    {
     "data": {
      "text/plain": [
       "[0.7246004939079285, 0.49871382117271423]"
      ]
     },
     "execution_count": 202,
     "metadata": {},
     "output_type": "execute_result"
    }
   ],
   "source": [
    "model.evaluate(x_test, y_test)"
   ]
  },
  {
   "cell_type": "code",
   "execution_count": 224,
   "metadata": {},
   "outputs": [
    {
     "data": {
      "image/png": "[encoded data removed]",
      "text/plain": [
       "<Figure size 432x288 with 1 Axes>"
      ]
     },
     "metadata": {
      "needs_background": "light"
     },
     "output_type": "display_data"
    },
    {
     "data": {
      "image/png": "[encoded data removed]",
      "text/plain": [
       "<Figure size 432x288 with 1 Axes>"
      ]
     },
     "metadata": {
      "needs_background": "light"
     },
     "output_type": "display_data"
    }
   ],
   "source": [
    "import matplotlib.pyplot as plt\n",
    "acc = history.history['acc']\n",
    "val_acc = history.history['val_acc']\n",
    "loss = history.history['loss']\n",
    "val_loss = history.history['val_loss']\n",
    "epochs = range(1, len(acc) + 1)\n",
    "plt.plot(epochs, acc, 'bo', label='Training acc')\n",
    "plt.plot(epochs, val_acc, 'b', label='Validation acc')\n",
    "plt.title('Training and validation accuracy')\n",
    "plt.legend()\n",
    "plt.figure()\n",
    "plt.plot(epochs, loss, 'bo', label='Training loss')\n",
    "plt.plot(epochs, val_loss, 'b', label='Validation loss')\n",
    "plt.title('Training and validation loss')\n",
    "plt.legend()\n",
    "plt.show()"
   ]
  },
  {
   "cell_type": "code",
   "execution_count": 230,
   "metadata": {},
   "outputs": [
    {
     "name": "stdout",
     "output_type": "stream",
     "text": [
      "Model: \"sequential_83\"\n",
      "_________________________________________________________________\n",
      "Layer (type)                 Output Shape              Param #   \n",
      "=================================================================\n",
      "embedding_77 (Embedding)     (None, 200, 100)          100000000 \n",
      "_________________________________________________________________\n",
      "lstm_22 (LSTM)               (None, 32)                17024     \n",
      "_________________________________________________________________\n",
      "flatten_68 (Flatten)         (None, 32)                0         \n",
      "_________________________________________________________________\n",
      "dense_133 (Dense)            (None, 32)                1056      \n",
      "_________________________________________________________________\n",
      "dense_134 (Dense)            (None, 1)                 33        \n",
      "=================================================================\n",
      "Total params: 100,018,113\n",
      "Trainable params: 100,018,113\n",
      "Non-trainable params: 0\n",
      "_________________________________________________________________\n",
      "Epoch 1/10\n",
      "WARNING:tensorflow:Model was constructed with shape (None, 200) for input KerasTensor(type_spec=TensorSpec(shape=(None, 200), dtype=tf.float32, name='embedding_77_input'), name='embedding_77_input', description=\"created by layer 'embedding_77_input'\"), but it was called on an input with incompatible shape (32, 2000).\n",
      "WARNING:tensorflow:Model was constructed with shape (None, 200) for input KerasTensor(type_spec=TensorSpec(shape=(None, 200), dtype=tf.float32, name='embedding_77_input'), name='embedding_77_input', description=\"created by layer 'embedding_77_input'\"), but it was called on an input with incompatible shape (32, 2000).\n",
      "625/625 [==============================] - ETA: 0s - loss: 0.5082 - acc: 0.7360WARNING:tensorflow:Model was constructed with shape (None, 200) for input KerasTensor(type_spec=TensorSpec(shape=(None, 200), dtype=tf.float32, name='embedding_77_input'), name='embedding_77_input', description=\"created by layer 'embedding_77_input'\"), but it was called on an input with incompatible shape (None, 2000).\n",
      "625/625 [==============================] - 396s 632ms/step - loss: 0.5080 - acc: 0.7362 - val_loss: 0.3672 - val_acc: 0.8506\n",
      "Epoch 2/10\n",
      "625/625 [==============================] - 391s 626ms/step - loss: 0.2138 - acc: 0.9202 - val_loss: 0.2862 - val_acc: 0.8858\n",
      "Epoch 3/10\n",
      "625/625 [==============================] - 393s 629ms/step - loss: 0.1612 - acc: 0.9433 - val_loss: 0.3018 - val_acc: 0.8816\n",
      "Epoch 4/10\n",
      "625/625 [==============================] - 382s 612ms/step - loss: 0.1147 - acc: 0.9638 - val_loss: 0.3559 - val_acc: 0.8770\n",
      "Epoch 5/10\n",
      "625/625 [==============================] - 383s 612ms/step - loss: 0.0984 - acc: 0.9685 - val_loss: 0.3309 - val_acc: 0.8808\n",
      "Epoch 6/10\n",
      "625/625 [==============================] - 384s 615ms/step - loss: 0.0679 - acc: 0.9777 - val_loss: 0.3981 - val_acc: 0.8792\n",
      "Epoch 7/10\n",
      "625/625 [==============================] - 382s 612ms/step - loss: 0.0570 - acc: 0.9820 - val_loss: 0.3989 - val_acc: 0.8634\n",
      "Epoch 8/10\n",
      "625/625 [==============================] - 386s 618ms/step - loss: 0.0451 - acc: 0.9875 - val_loss: 0.4471 - val_acc: 0.8746\n",
      "Epoch 9/10\n",
      "625/625 [==============================] - 393s 628ms/step - loss: 0.0309 - acc: 0.9906 - val_loss: 0.4983 - val_acc: 0.8802\n",
      "Epoch 10/10\n",
      "625/625 [==============================] - 386s 618ms/step - loss: 0.0229 - acc: 0.9931 - val_loss: 0.5039 - val_acc: 0.8620\n"
     ]
    }
   ],
   "source": [
    "import tensorflow as tf\n",
    "re_model = tf.keras.models.Sequential()\n",
    "re_model.add(tf.keras.layers.Embedding(1000000,100,input_length=200))\n",
    "re_model.add(tf.keras.layers.LSTM(32))\n",
    "re_model.add(tf.keras.layers.Flatten())\n",
    "re_model.add(tf.keras.layers.Dense(32, activation='relu'))\n",
    "re_model.add(tf.keras.layers.Dense(1, activation='sigmoid'))\n",
    "re_model.summary()\n",
    "re_model.compile(optimizer='rmsprop',\n",
    "     loss='binary_crossentropy',\n",
    "     metrics=['acc'])\n",
    "re_history = re_model.fit(x_train, y_train,\n",
    "     epochs=10,\n",
    "     batch_size=32,\n",
    "     validation_split=0.2)"
   ]
  },
  {
   "cell_type": "code",
   "execution_count": 231,
   "metadata": {},
   "outputs": [
    {
     "name": "stdout",
     "output_type": "stream",
     "text": [
      "782/782 [==============================] - 69s 89ms/step - loss: 0.5386 - acc: 0.8513\n"
     ]
    },
    {
     "data": {
      "text/plain": [
       "[0.5385589599609375, 0.8513200283050537]"
      ]
     },
     "execution_count": 231,
     "metadata": {},
     "output_type": "execute_result"
    }
   ],
   "source": [
    "re_model.evaluate(x_test, y_test)"
   ]
  },
  {
   "cell_type": "code",
   "execution_count": 232,
   "metadata": {},
   "outputs": [
    {
     "data": {
      "image/png": "[encoded data removed]",
      "text/plain": [
       "<Figure size 432x288 with 1 Axes>"
      ]
     },
     "metadata": {
      "needs_background": "light"
     },
     "output_type": "display_data"
    },
    {
     "data": {
      "image/png": "[encoded data removed]",
      "text/plain": [
       "<Figure size 432x288 with 1 Axes>"
      ]
     },
     "metadata": {
      "needs_background": "light"
     },
     "output_type": "display_data"
    }
   ],
   "source": [
    "import matplotlib.pyplot as plt\n",
    "acc = re_history.history['acc']\n",
    "val_acc = re_history.history['val_acc']\n",
    "loss = re_history.history['loss']\n",
    "val_loss = re_history.history['val_loss']\n",
    "epochs = range(1, len(acc) + 1)\n",
    "plt.plot(epochs, acc, 'bo', label='Training acc')\n",
    "plt.plot(epochs, val_acc, 'b', label='Validation acc')\n",
    "plt.title('Training and validation accuracy')\n",
    "plt.legend()\n",
    "plt.figure()\n",
    "plt.plot(epochs, loss, 'bo', label='Training loss')\n",
    "plt.plot(epochs, val_loss, 'b', label='Validation loss')\n",
    "plt.title('Training and validation loss')\n",
    "plt.legend()\n",
    "plt.show()"
   ]
  },
  {
   "cell_type": "code",
   "execution_count": 235,
   "metadata": {},
   "outputs": [
    {
     "name": "stdout",
     "output_type": "stream",
     "text": [
      "Model: \"sequential_86\"\n",
      "_________________________________________________________________\n",
      "Layer (type)                 Output Shape              Param #   \n",
      "=================================================================\n",
      "embedding_80 (Embedding)     (None, None, 100)         100000000 \n",
      "_________________________________________________________________\n",
      "conv1d_7 (Conv1D)            (None, None, 32)          9632      \n",
      "_________________________________________________________________\n",
      "dense_139 (Dense)            (None, None, 32)          1056      \n",
      "_________________________________________________________________\n",
      "dense_140 (Dense)            (None, None, 1)           33        \n",
      "=================================================================\n",
      "Total params: 100,010,721\n",
      "Trainable params: 100,010,721\n",
      "Non-trainable params: 0\n",
      "_________________________________________________________________\n",
      "Epoch 1/10\n",
      "625/625 [==============================] - 260s 415ms/step - loss: 0.6920 - acc: 0.5055 - val_loss: 0.6892 - val_acc: 0.5197\n",
      "Epoch 2/10\n",
      "625/625 [==============================] - 267s 426ms/step - loss: 0.6884 - acc: 0.5146 - val_loss: 0.6899 - val_acc: 0.5031\n",
      "Epoch 3/10\n",
      "625/625 [==============================] - 270s 431ms/step - loss: 0.6876 - acc: 0.5160 - val_loss: 0.6889 - val_acc: 0.5201\n",
      "Epoch 4/10\n",
      "625/625 [==============================] - 247s 395ms/step - loss: 0.6872 - acc: 0.5165 - val_loss: 0.6891 - val_acc: 0.5034\n",
      "Epoch 5/10\n",
      "625/625 [==============================] - 233s 373ms/step - loss: 0.6868 - acc: 0.5127 - val_loss: 0.6899 - val_acc: 0.5034\n",
      "Epoch 6/10\n",
      "625/625 [==============================] - 274s 438ms/step - loss: 0.6862 - acc: 0.5102 - val_loss: 0.6891 - val_acc: 0.5034\n",
      "Epoch 7/10\n",
      "625/625 [==============================] - 251s 401ms/step - loss: 0.6859 - acc: 0.5192 - val_loss: 0.6895 - val_acc: 0.5200\n",
      "Epoch 8/10\n",
      "625/625 [==============================] - 247s 395ms/step - loss: 0.6854 - acc: 0.5100 - val_loss: 0.6892 - val_acc: 0.5034\n",
      "Epoch 9/10\n",
      "625/625 [==============================] - 254s 406ms/step - loss: 0.6850 - acc: 0.5172 - val_loss: 0.6897 - val_acc: 0.5033\n",
      "Epoch 10/10\n",
      "625/625 [==============================] - 244s 390ms/step - loss: 0.6847 - acc: 0.5189 - val_loss: 0.6901 - val_acc: 0.5033\n"
     ]
    }
   ],
   "source": [
    "import tensorflow as tf\n",
    "cn_model = tf.keras.models.Sequential()\n",
    "cn_model.add(tf.keras.layers.Embedding(1000000,100))\n",
    "cn_model.add(tf.keras.layers.Conv1D(32,3))\n",
    "cn_model.add(tf.keras.layers.Dense(32, activation='relu'))\n",
    "cn_model.add(tf.keras.layers.Dense(1, activation='sigmoid'))\n",
    "cn_model.summary()\n",
    "cn_model.compile(optimizer='rmsprop',\n",
    "     loss='binary_crossentropy',\n",
    "     metrics=['acc'])\n",
    "cn_history = cn_model.fit(x_train, y_train,\n",
    "     epochs=10,\n",
    "     batch_size=32,\n",
    "     validation_split=0.2)"
   ]
  },
  {
   "cell_type": "code",
   "execution_count": 236,
   "metadata": {},
   "outputs": [
    {
     "name": "stdout",
     "output_type": "stream",
     "text": [
      "782/782 [==============================] - 12s 16ms/step - loss: 0.6911 - acc: 0.5101\n"
     ]
    },
    {
     "data": {
      "text/plain": [
       "[0.6911347508430481, 0.5100898146629333]"
      ]
     },
     "execution_count": 236,
     "metadata": {},
     "output_type": "execute_result"
    }
   ],
   "source": [
    "cn_model.evaluate(x_test, y_test)"
   ]
  },
  {
   "cell_type": "code",
   "execution_count": 237,
   "metadata": {},
   "outputs": [
    {
     "data": {
      "image/png": "[encoded data removed]",
      "text/plain": [
       "<Figure size 432x288 with 1 Axes>"
      ]
     },
     "metadata": {
      "needs_background": "light"
     },
     "output_type": "display_data"
    },
    {
     "data": {
      "image/png": "[encoded data removed]",
      "text/plain": [
       "<Figure size 432x288 with 1 Axes>"
      ]
     },
     "metadata": {
      "needs_background": "light"
     },
     "output_type": "display_data"
    }
   ],
   "source": [
    "import matplotlib.pyplot as plt\n",
    "acc = cn_history.history['acc']\n",
    "val_acc = cn_history.history['val_acc']\n",
    "loss = cn_history.history['loss']\n",
    "val_loss = cn_history.history['val_loss']\n",
    "epochs = range(1, len(acc) + 1)\n",
    "plt.plot(epochs, acc, 'bo', label='Training acc')\n",
    "plt.plot(epochs, val_acc, 'b', label='Validation acc')\n",
    "plt.title('Training and validation accuracy')\n",
    "plt.legend()\n",
    "plt.figure()\n",
    "plt.plot(epochs, loss, 'bo', label='Training loss')\n",
    "plt.plot(epochs, val_loss, 'b', label='Validation loss')\n",
    "plt.title('Training and validation loss')\n",
    "plt.legend()\n",
    "plt.show()"
   ]
  },
  {
   "cell_type": "code",
   "execution_count": null,
   "metadata": {},
   "outputs": [],
   "source": []
  }
 ],
 "metadata": {
  "interpreter": {
   "hash": "6a7e085e2be22aecdec34467013b94f50fba0b03f672379593d6e76b12038bf7"
  },
  "kernelspec": {
   "display_name": "Python 3.8.10 64-bit (conda)",
   "name": "python3"
  },
  "language_info": {
   "codemirror_mode": {
    "name": "ipython",
    "version": 3
   },
   "file_extension": ".py",
   "mimetype": "text/x-python",
   "name": "python",
   "nbconvert_exporter": "python",
   "pygments_lexer": "ipython3",
   "version": "3.8.10"
  },
  "orig_nbformat": 4
 },
 "nbformat": 4,
 "nbformat_minor": 2
}
